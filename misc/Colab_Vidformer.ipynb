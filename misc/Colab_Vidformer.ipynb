{
 "cells": [
  {
   "cell_type": "code",
   "execution_count": null,
   "metadata": {
    "colab": {
     "base_uri": "https://localhost:8080/"
    },
    "id": "1gI19RpsKVwl",
    "outputId": "3acd26c0-90d1-4947-cff3-9d163924255b"
   },
   "outputs": [],
   "source": [
    "!pip3 install vidformer supervision ultralytics"
   ]
  },
  {
   "cell_type": "markdown",
   "metadata": {
    "id": "ZcayluwkjWF2"
   },
   "source": [
    "# [Vidformer](https://github.com/ixlab/vidformer): Video Data Transformation\n",
    "\n",
    "Vidformer uses a `cv2`-compatibility layer allowing `import vidformer.cv2 as cv2` conversion:"
   ]
  },
  {
   "cell_type": "code",
   "execution_count": null,
   "metadata": {
    "id": "dfvXyItHKbOS"
   },
   "outputs": [],
   "source": [
    "import math\n",
    "\n",
    "import vidformer as vf\n",
    "import vidformer.cv2 as cv2\n",
    "import vidformer.supervision as vf_sv\n",
    "\n",
    "# Use the api.vidformer.org guest account\n",
    "# The guest account has few permissions (can't access other videos) and low limits\n",
    "# To get around this:\n",
    "#     1) Ask for a regular account\n",
    "#     2) Use the locally-running YrdenServer instead\n",
    "#     3) Self-host\n",
    "server = vf.IgniServer(\"https://api.vidformer.org\", api_key=\"VF_GUEST\")\n",
    "cv2.set_server(server)"
   ]
  },
  {
   "cell_type": "code",
   "execution_count": null,
   "metadata": {
    "colab": {
     "base_uri": "https://localhost:8080/",
     "height": 34
    },
    "id": "579M7jwiKgu2",
    "outputId": "3006cbd1-334e-4c65-c103-e92fb0ffcc4e"
   },
   "outputs": [],
   "source": [
    "cap = cv2.VideoCapture(\n",
    "    \"https://vidformer-sample-media.nyc3.digitaloceanspaces.com/tos_720p.mp4\"\n",
    ")\n",
    "assert cap.isOpened()\n",
    "width = cap.get(cv2.CAP_PROP_FRAME_WIDTH)\n",
    "height = cap.get(cv2.CAP_PROP_FRAME_HEIGHT)\n",
    "fps = cap.get(cv2.CAP_PROP_FPS)\n",
    "out = cv2.VideoWriter(None, cv2.VideoWriter_fourcc(*\"mp4v\"), 24, (height, width))\n",
    "\n",
    "# Play the video in the notebook cell (outside jupyter add method=\"link\")\n",
    "# This will say \"Waiting\" until you fill in the content in future cells\n",
    "cv2.vidplay(out)"
   ]
  },
  {
   "cell_type": "code",
   "execution_count": null,
   "metadata": {
    "id": "BWHooZspKnhw"
   },
   "outputs": [],
   "source": [
    "radius = 100\n",
    "center_x, center_y = 300, 300\n",
    "speed = 2 * math.pi / 100\n",
    "i = 0\n",
    "while True:\n",
    "    ret, frame = cap.read()\n",
    "    if not ret:\n",
    "        break\n",
    "    angle = i * speed\n",
    "    text_x = int(center_x + radius * math.cos(angle))\n",
    "    text_y = int(center_y + radius * math.sin(angle))\n",
    "    cv2.putText(\n",
    "        frame,\n",
    "        \"Hello, world!\",\n",
    "        (text_x, text_y),\n",
    "        cv2.FONT_HERSHEY_SIMPLEX,\n",
    "        1,\n",
    "        (0, 255, 0),\n",
    "        2,\n",
    "        cv2.LINE_AA,\n",
    "    )\n",
    "    out.write(frame)\n",
    "    i += 1\n",
    "out.release()"
   ]
  },
  {
   "cell_type": "markdown",
   "metadata": {
    "id": "uLvbF0ryjdZx"
   },
   "source": [
    "## Vidformer for CV Annotation with supervision"
   ]
  },
  {
   "cell_type": "code",
   "execution_count": null,
   "metadata": {
    "colab": {
     "base_uri": "https://localhost:8080/",
     "height": 382
    },
    "id": "51o-2E-2lnoo",
    "outputId": "71738d9b-93f1-463a-f56c-543d4fed8dbb"
   },
   "outputs": [],
   "source": [
    "# # Run Yolov8m on the video\n",
    "# import cv2 as ocv_cv2\n",
    "# import supervision as sv\n",
    "# from ultralytics import YOLO\n",
    "\n",
    "# model = YOLO(\"yolov8m.pt\")\n",
    "\n",
    "# ocv_cap = ocv_cv2.VideoCapture(\n",
    "#     \"https://vidformer-sample-media.nyc3.digitaloceanspaces.com/tos_720p.mp4\"\n",
    "# )\n",
    "# assert ocv_cap.isOpened()\n",
    "\n",
    "# detections = []\n",
    "# while True:\n",
    "#   ret, frame = ocv_cap.read()\n",
    "#   if not ret:\n",
    "#     break\n",
    "#   detections.append(sv.Detections.from_ultralytics(model(frame)[0]))\n",
    "\n",
    "\n",
    "# Load pre-computed detections\n",
    "import pickle\n",
    "import urllib\n",
    "\n",
    "with urllib.request.urlopen(\n",
    "    \"https://vidformer-sample-media.nyc3.cdn.digitaloceanspaces.com/tos_720p-yolov8l-detections.pkl\"\n",
    ") as response:\n",
    "    detections = pickle.load(response)\n",
    "\n",
    "out = cv2.VideoWriter(None, cv2.VideoWriter_fourcc(*\"mp4v\"), 24, (height, width))\n",
    "cv2.vidplay(out)"
   ]
  },
  {
   "cell_type": "markdown",
   "metadata": {
    "id": "g93941WT6W83"
   },
   "source": []
  },
  {
   "cell_type": "code",
   "execution_count": null,
   "metadata": {
    "id": "Il7LiPRJ6KHg"
   },
   "outputs": [],
   "source": [
    "cap.set(cv2.CAP_PROP_POS_FRAMES, 0)\n",
    "\n",
    "box_anot = vf_sv.BoxAnnotator()\n",
    "label_anot = vf_sv.LabelAnnotator()\n",
    "i = 0\n",
    "while True:\n",
    "    ret, frame = cap.read()\n",
    "    if not ret:\n",
    "        break\n",
    "\n",
    "    det = detections[i]\n",
    "    det = det[det.confidence > 0.5]\n",
    "\n",
    "    labels = [\n",
    "        f\"{class_name} {confidence:.2f}\"\n",
    "        for class_name, confidence in zip(det[\"class_name\"], det.confidence)\n",
    "    ]\n",
    "    frame = box_anot.annotate(frame.copy(), det)\n",
    "    frame = label_anot.annotate(frame.copy(), det, labels)\n",
    "\n",
    "    out.write(frame)\n",
    "    i += 1\n",
    "out.release()"
   ]
  }
 ],
 "metadata": {
  "colab": {
   "provenance": []
  },
  "kernelspec": {
   "display_name": "Python 3 (ipykernel)",
   "language": "python",
   "name": "python3"
  },
  "language_info": {
   "codemirror_mode": {
    "name": "ipython",
    "version": 3
   },
   "file_extension": ".py",
   "mimetype": "text/x-python",
   "name": "python",
   "nbconvert_exporter": "python",
   "pygments_lexer": "ipython3",
   "version": "3.11.2"
  }
 },
 "nbformat": 4,
 "nbformat_minor": 4
}
