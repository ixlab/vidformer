{
 "cells": [
  {
   "cell_type": "code",
   "execution_count": null,
   "metadata": {
    "id": "N1tb10v9WSZJ"
   },
   "outputs": [],
   "source": [
    "!wget https://github.com/ixlab/vidformer/releases/download/v0.6.3/vidformer-cli-ubuntu22.04-amd64\n",
    "!mv  vidformer-cli-ubuntu22.04-amd64 /usr/local/bin/vidformer-cli\n",
    "!chmod +x /usr/local/bin/vidformer-cli\n",
    "!apt update && apt upgrade -y && apt install -y libopencv-dev libfdk-aac-dev\n",
    "!pip3 install vidformer==0.6.3 --upgrade"
   ]
  },
  {
   "cell_type": "markdown",
   "metadata": {
    "id": "_M0bd0brLXw2"
   },
   "source": [
    "## [Vidformer](https://github.com/ixlab/vidformer) colab demo"
   ]
  },
  {
   "cell_type": "markdown",
   "metadata": {
    "id": "FYQvFyR7WwJ5"
   },
   "source": []
  },
  {
   "cell_type": "code",
   "execution_count": null,
   "metadata": {
    "id": "JyRdCYYPWsel"
   },
   "outputs": [],
   "source": [
    "import vidformer as vf\n",
    "from fractions import Fraction\n",
    "\n",
    "server = vf.YrdenServer()\n",
    "tos = vf.Source(server, \"tos_720p\", \"https://f.dominik.win/data/dve2/tos_720p.mp4\", stream=0)\n",
    "\n",
    "print(tos.fmt())\n",
    "\n",
    "domain = [Fraction(i, 24) for i in range(24 * 30)]\n",
    "def render(t: Fraction, i: int):\n",
    "    clip_start_point = Fraction(5 * 60, 1) # start at 5 * 60 seconds\n",
    "    return tos[t + clip_start_point]\n",
    "\n",
    "spec = vf.Spec(domain, render, tos.fmt())\n",
    "spec.save(server, \"my-clip.mp4\")"
   ]
  },
  {
   "cell_type": "code",
   "execution_count": null,
   "metadata": {
    "id": "ZWgu_US1YC_C"
   },
   "outputs": [],
   "source": [
    "from IPython.display import Video\n",
    "Video(\"my-clip.mp4\", embed=True)"
   ]
  },
  {
   "cell_type": "markdown",
   "metadata": {
    "id": "xfi0dYKSMsp-"
   },
   "source": [
    "# Or you can use the cv2 frontend; just change `import cv2` to `import vidformer.cv2 as cv2`:"
   ]
  },
  {
   "cell_type": "code",
   "execution_count": null,
   "metadata": {
    "id": "LiNdbdD-MrMf"
   },
   "outputs": [],
   "source": [
    "import cv2\n",
    "# import vidformer.cv2 as cv2 # Use me instead!\n",
    "\n",
    "video_url = \"https://f.dominik.win/data/dve2/tos_720p.mp4\"\n",
    "cap = cv2.VideoCapture(video_url)\n",
    "assert cap.isOpened()\n",
    "\n",
    "start_time = 5 * 60\n",
    "clip_duration = 5\n",
    "fps = cap.get(cv2.CAP_PROP_FPS)\n",
    "frame_width = int(cap.get(cv2.CAP_PROP_FRAME_WIDTH))\n",
    "frame_height = int(cap.get(cv2.CAP_PROP_FRAME_HEIGHT))\n",
    "\n",
    "start_frame = int(start_time * fps)\n",
    "total_frames = int(clip_duration * fps)\n",
    "\n",
    "cap.set(cv2.CAP_PROP_POS_FRAMES, start_frame)\n",
    "\n",
    "fourcc = cv2.VideoWriter_fourcc(*'mp4v')\n",
    "out = cv2.VideoWriter('output_clip.mp4', fourcc, fps, (frame_width, frame_height))\n",
    "\n",
    "for _ in range(total_frames):\n",
    "    ret, frame = cap.read()\n",
    "    if not ret:\n",
    "        print(\"Error: Could not read frame.\")\n",
    "        break\n",
    "    out.write(frame)\n",
    "\n",
    "cap.release()\n",
    "out.release()\n",
    "print(\"Clip saved as 'output_clip.mp4'.\")"
   ]
  },
  {
   "cell_type": "markdown",
   "metadata": {
    "id": "uJaEbrHPLS2w"
   },
   "source": [
    "Want to go further? See https://ixlab.github.io/vidformer/getting-started.html"
   ]
  }
 ],
 "metadata": {
  "colab": {
   "provenance": []
  },
  "kernelspec": {
   "display_name": "Python 3",
   "name": "python3"
  },
  "language_info": {
   "name": "python"
  }
 },
 "nbformat": 4,
 "nbformat_minor": 0
}
